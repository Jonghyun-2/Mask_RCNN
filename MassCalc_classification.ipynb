{
 "cells": [
  {
   "cell_type": "code",
   "execution_count": 2,
   "metadata": {},
   "outputs": [],
   "source": [
    "import numpy as np\n",
    "import cv2 as cv\n",
    "import matplotlib.pyplot as plt\n",
    "import glob\n",
    "import keras\n",
    "from keras.utils.np_utils import to_categorical"
   ]
  },
  {
   "cell_type": "code",
   "execution_count": 3,
   "metadata": {},
   "outputs": [],
   "source": [
    "import tensorflow as tf\n",
    "\n",
    "cf = tf.ConfigProto()\n",
    "cf.gpu_options.allow_growth = True\n",
    "sess = tf.Session(config=cf)"
   ]
  },
  {
   "cell_type": "code",
   "execution_count": 10,
   "metadata": {},
   "outputs": [],
   "source": [
    "MASK_TRAIN_CALC_PATH = r\"D:\\Gproject\\DataSet\\tcia_data\\dataset_dir\\mask_train\\calc\\*.png\"\n",
    "MASK_TRAIN_MASS_PATH = r\"D:\\Gproject\\DataSet\\tcia_data\\dataset_dir\\mask_train\\mass\\*.png\"\n",
    "MASK_TEST_CALC_PATH = r\"D:\\Gproject\\DataSet\\tcia_data\\dataset_dir\\mask_test\\calc\\*.png\"\n",
    "MASK_TEST_MASS_PATH = r\"D:\\Gproject\\DataSet\\tcia_data\\dataset_dir\\mask_test\\mass\\*.png\""
   ]
  },
  {
   "cell_type": "code",
   "execution_count": 13,
   "metadata": {},
   "outputs": [],
   "source": [
    "MASK_TRAIN_CALC_PATHS = glob.glob(MASK_TRAIN_CALC_PATH)\n",
    "MASK_TRAIN_MASS_PATHS = glob.glob(MASK_TRAIN_MASS_PATH)\n",
    "MASK_TRAIN_PATHS = MASK_TRAIN_CALC_PATHS + MASK_TRAIN_MASS_PATHS\n",
    "MASK_TEST_CALC_PATHS = glob.glob(MASK_TEST_CALC_PATH)\n",
    "MASK_TEST_MASS_PATHS = glob.glob(MASK_TEST_MASS_PATH)\n",
    "MASK_TEST_PATHS = MASK_TEST_CALC_PATHS + MASK_TEST_MASS_PATHS"
   ]
  },
  {
   "cell_type": "code",
   "execution_count": 84,
   "metadata": {},
   "outputs": [
    {
     "name": "stdout",
     "output_type": "stream",
     "text": [
      "1519 1226 2745\n",
      "325 365 690\n"
     ]
    }
   ],
   "source": [
    "print(len(MASK_TRAIN_CALC_PATHS),len(MASK_TRAIN_MASS_PATHS) ,len(MASK_TRAIN_PATHS))\n",
    "print(len(MASK_TEST_CALC_PATHS),len(MASK_TEST_MASS_PATHS),len(MASK_TEST_PATHS))"
   ]
  },
  {
   "cell_type": "code",
   "execution_count": 16,
   "metadata": {},
   "outputs": [
    {
     "name": "stdout",
     "output_type": "stream",
     "text": [
      "1125724\n",
      "1155854\n"
     ]
    }
   ],
   "source": [
    "# # 이미지의 평균 구하기\n",
    "# img_x = 0\n",
    "# img_y = 0\n",
    "# for i in MASK_TRAIN_PATHS:\n",
    "#     img = plt.imread(i)\n",
    "#     img_x += img.shape[0]\n",
    "#     img_y += img.shape[1]\n",
    "\n",
    "# # 410.0998178506375\n",
    "# print(img_x/2745)\n",
    "\n",
    "# # 421.0761384335155\n",
    "# print(img_y/2745)"
   ]
  },
  {
   "cell_type": "code",
   "execution_count": 14,
   "metadata": {},
   "outputs": [
    {
     "name": "stdout",
     "output_type": "stream",
     "text": [
      "(2745, 224, 224, 1)\n",
      "(2745,)\n"
     ]
    }
   ],
   "source": [
    "#train set\n",
    "count = 0\n",
    "dsize =(224,224)\n",
    "train_x = np.array\n",
    "train_y = np.array([])\n",
    "\n",
    "for i in MASK_TRAIN_PATHS:\n",
    "    \n",
    "    img = cv.imread(i,cv.COLOR_RGB2BGRA)\n",
    "    \n",
    "    if img.shape[0] > dsize[0] and img.shape[1] > dsize[1]:\n",
    "        resize_img = cv.resize(img,dsize,interpolation = cv.INTER_CUBIC)\n",
    "        \n",
    "    else:\n",
    "        resize_img = cv.resize(img,dsize,interpolation = cv.INTER_AREA)\n",
    "\n",
    "    resize_img_newaxis = resize_img[np.newaxis,...]\n",
    "    count +=1\n",
    "    #print(count)\n",
    "    \n",
    "    if count == 1:\n",
    "        train_x = resize_img_newaxis\n",
    "    else:\n",
    "        train_x = np.concatenate((train_x, resize_img_newaxis))\n",
    "    \n",
    "    abnormality = i.split(\"\\\\\")[-1][:4]\n",
    "    if abnormality == 'Calc':\n",
    "        train_y = np.concatenate((train_y,[0]))\n",
    "    elif abnormality == 'Mass':\n",
    "        train_y = np.concatenate((train_y,[1]))\n",
    "    else:\n",
    "        print(i)\n",
    "        \n",
    "train_x = train_x[...,np.newaxis]\n",
    "print(train_x.shape)\n",
    "print(train_y.shape)"
   ]
  },
  {
   "cell_type": "code",
   "execution_count": 12,
   "metadata": {},
   "outputs": [
    {
     "data": {
      "text/plain": [
       "0"
      ]
     },
     "execution_count": 12,
     "metadata": {},
     "output_type": "execute_result"
    }
   ],
   "source": [
    "len(MASK_TRAIN_PATHS)"
   ]
  },
  {
   "cell_type": "code",
   "execution_count": 15,
   "metadata": {},
   "outputs": [],
   "source": [
    "train_y = to_categorical(train_y,num_classes=2,dtype=np.uint8)"
   ]
  },
  {
   "cell_type": "code",
   "execution_count": 16,
   "metadata": {},
   "outputs": [
    {
     "name": "stdout",
     "output_type": "stream",
     "text": [
      "(690, 224, 224, 1)\n",
      "(690,)\n"
     ]
    }
   ],
   "source": [
    "#val set\n",
    "count = 0\n",
    "dsize =(224,224)\n",
    "test_x = np.array\n",
    "test_y = np.array([])\n",
    "\n",
    "for i in MASK_TEST_PATHS:\n",
    "    \n",
    "    img = cv.imread(i,cv.COLOR_RGB2BGRA)\n",
    "    \n",
    "    if img.shape[0] > dsize[0] and img.shape[1] > dsize[1]:\n",
    "        resize_img = cv.resize(img,dsize,interpolation = cv.INTER_CUBIC)\n",
    "        \n",
    "    else:\n",
    "        resize_img = cv.resize(img,dsize,interpolation = cv.INTER_AREA)\n",
    "\n",
    "    resize_img_newaxis = resize_img[np.newaxis,...]\n",
    "    count +=1\n",
    "    #print(count)\n",
    "    \n",
    "    if count == 1:\n",
    "        test_x = resize_img_newaxis\n",
    "    else:\n",
    "        test_x = np.concatenate((test_x, resize_img_newaxis))\n",
    "    \n",
    "    abnormality = i.split(\"\\\\\")[-1][:4]\n",
    "    if abnormality == 'Calc':\n",
    "        test_y = np.concatenate((test_y,[0]))\n",
    "    elif abnormality == 'Mass':\n",
    "        test_y = np.concatenate((test_y,[1]))\n",
    "    else:\n",
    "        print(i)\n",
    "test_x = test_x[...,np.newaxis]\n",
    "print(test_x.shape)\n",
    "print(test_y.shape)"
   ]
  },
  {
   "cell_type": "code",
   "execution_count": 17,
   "metadata": {},
   "outputs": [],
   "source": [
    "test_y = to_categorical(test_y,num_classes=2,dtype=np.uint8)"
   ]
  },
  {
   "cell_type": "code",
   "execution_count": null,
   "metadata": {},
   "outputs": [],
   "source": []
  },
  {
   "cell_type": "code",
   "execution_count": 23,
   "metadata": {},
   "outputs": [],
   "source": [
    "from keras import layers\n",
    "from keras import models\n",
    "from keras import optimizers\n",
    "from keras import losses\n",
    "from keras import callbacks\n",
    "from keras.applications import ResNet50V2\n",
    "from keras.preprocessing.image import ImageDataGenerator"
   ]
  },
  {
   "cell_type": "code",
   "execution_count": 19,
   "metadata": {},
   "outputs": [],
   "source": [
    "csv_logger = callbacks.CSVLogger('./log_classification/200520_00log.scv')"
   ]
  },
  {
   "cell_type": "code",
   "execution_count": 20,
   "metadata": {},
   "outputs": [],
   "source": [
    "def bulid_ResNet50V2(input_shape=None):\n",
    "    base_model = ResNet50V2(include_top=False, weights=None, input_shape=input_shape)\n",
    "\n",
    "    x = base_model.output\n",
    "    x = layers.GlobalAveragePooling2D(name='gap')(x)\n",
    "    \n",
    "    x = layers.Dense(512, activation='relu', name='fc1')(x)\n",
    "    x = layers.Dense(256, activation='relu', name='fc2')(x)\n",
    "    main_output = layers.Dense(2, name='fc3',activation='softmax')(x)\n",
    "\n",
    "    model = models.Model(inputs=base_model.input, outputs=main_output, name='resnet50_v2')\n",
    "\n",
    "    return model"
   ]
  },
  {
   "cell_type": "code",
   "execution_count": 21,
   "metadata": {},
   "outputs": [
    {
     "name": "stdout",
     "output_type": "stream",
     "text": [
      "WARNING:tensorflow:From C:\\Users\\micke\\Miniconda3\\envs\\rcnn_1.14\\lib\\site-packages\\keras\\backend\\tensorflow_backend.py:4070: The name tf.nn.max_pool is deprecated. Please use tf.nn.max_pool2d instead.\n",
      "\n"
     ]
    }
   ],
   "source": [
    "model = bulid_ResNet50V2(input_shape=(224,224,1))"
   ]
  },
  {
   "cell_type": "code",
   "execution_count": 22,
   "metadata": {},
   "outputs": [],
   "source": [
    "model.compile(optimizer=optimizers.RMSprop(lr=0.001),\n",
    "              loss=losses.binary_crossentropy, metrics=['acc'])"
   ]
  },
  {
   "cell_type": "code",
   "execution_count": 17,
   "metadata": {},
   "outputs": [
    {
     "data": {
      "text/plain": [
       "(2745, 224, 224, 1)"
      ]
     },
     "execution_count": 17,
     "metadata": {},
     "output_type": "execute_result"
    }
   ],
   "source": [
    "train_x.shape"
   ]
  },
  {
   "cell_type": "code",
   "execution_count": 21,
   "metadata": {},
   "outputs": [],
   "source": []
  },
  {
   "cell_type": "code",
   "execution_count": 24,
   "metadata": {},
   "outputs": [],
   "source": [
    "train_datagen = ImageDataGenerator(rescale=1./255,horizontal_flip=True,vertical_flip=True)\n",
    "test_datagen = ImageDataGenerator(rescale=1./255)\n",
    "\n",
    "# train_root = r\"D:\\Gproject\\DataSet\\tcia_data\\dataset_dir\\mask_train\"\n",
    "# test_root = r\"D:\\Gproject\\DataSet\\tcia_data\\dataset_dir\\mask_test\"\n",
    "#train_generator = train_datagen.flow_from_directory(train_root,target_size=(244,244),batch_size=16,interpolation=\"bilinear\")\n",
    "#test_generator = train_datagen.flow_from_directory(test_root,target_size=(244,244),batch_size=16,interpolation=\"bilinear\")\n",
    "\n",
    "train_generator = train_datagen.flow(x=train_x ,y=train_y,batch_size=16)\n",
    "test_generator = test_datagen.flow(x= test_x,y=test_y,batch_size=16)"
   ]
  },
  {
   "cell_type": "code",
   "execution_count": 25,
   "metadata": {},
   "outputs": [
    {
     "name": "stdout",
     "output_type": "stream",
     "text": [
      "WARNING:tensorflow:From C:\\Users\\micke\\Miniconda3\\envs\\rcnn_1.14\\lib\\site-packages\\tensorflow\\python\\ops\\math_grad.py:1250: add_dispatch_support.<locals>.wrapper (from tensorflow.python.ops.array_ops) is deprecated and will be removed in a future version.\n",
      "Instructions for updating:\n",
      "Use tf.where in 2.0, which has the same broadcast rule as np.where\n",
      "WARNING:tensorflow:From C:\\Users\\micke\\Miniconda3\\envs\\rcnn_1.14\\lib\\site-packages\\keras\\backend\\tensorflow_backend.py:422: The name tf.global_variables is deprecated. Please use tf.compat.v1.global_variables instead.\n",
      "\n",
      "Epoch 1/40\n",
      "200/200 [==============================] - 40s 200ms/step - loss: 0.7282 - acc: 0.6279 - val_loss: 4.7626 - val_acc: 0.6125\n",
      "Epoch 2/40\n",
      "200/200 [==============================] - 27s 134ms/step - loss: 0.6247 - acc: 0.6580 - val_loss: 3.5832 - val_acc: 0.4531\n",
      "Epoch 3/40\n",
      "200/200 [==============================] - 27s 137ms/step - loss: 0.5770 - acc: 0.7181 - val_loss: 5.7475 - val_acc: 0.4248\n",
      "Epoch 4/40\n",
      "200/200 [==============================] - 26s 132ms/step - loss: 0.5223 - acc: 0.7463 - val_loss: 3.8078 - val_acc: 0.4875\n",
      "Epoch 5/40\n",
      "200/200 [==============================] - 26s 132ms/step - loss: 0.4845 - acc: 0.7724 - val_loss: 3.8658 - val_acc: 0.4542\n",
      "Epoch 6/40\n",
      "200/200 [==============================] - 27s 133ms/step - loss: 0.4838 - acc: 0.7651 - val_loss: 0.5423 - val_acc: 0.7781\n",
      "Epoch 7/40\n",
      "200/200 [==============================] - 26s 132ms/step - loss: 0.4427 - acc: 0.7905 - val_loss: 4.2959 - val_acc: 0.5163\n",
      "Epoch 8/40\n",
      "200/200 [==============================] - 27s 133ms/step - loss: 0.4517 - acc: 0.7974 - val_loss: 2.6919 - val_acc: 0.4500\n",
      "Epoch 9/40\n",
      "200/200 [==============================] - 27s 135ms/step - loss: 0.4206 - acc: 0.8101 - val_loss: 2.0313 - val_acc: 0.4837\n",
      "Epoch 10/40\n",
      "200/200 [==============================] - 26s 132ms/step - loss: 0.4009 - acc: 0.8175 - val_loss: 0.9204 - val_acc: 0.6000\n",
      "Epoch 11/40\n",
      "200/200 [==============================] - 26s 131ms/step - loss: 0.3906 - acc: 0.8230 - val_loss: 0.9439 - val_acc: 0.6699\n",
      "Epoch 12/40\n",
      "200/200 [==============================] - 27s 133ms/step - loss: 0.3748 - acc: 0.8272 - val_loss: 1.9709 - val_acc: 0.4750\n",
      "Epoch 13/40\n",
      "200/200 [==============================] - 26s 131ms/step - loss: 0.3585 - acc: 0.8390 - val_loss: 0.3019 - val_acc: 0.7969\n",
      "Epoch 14/40\n",
      "200/200 [==============================] - 27s 133ms/step - loss: 0.3551 - acc: 0.8402 - val_loss: 1.0867 - val_acc: 0.7222\n",
      "Epoch 15/40\n",
      "200/200 [==============================] - 27s 133ms/step - loss: 0.3549 - acc: 0.8462 - val_loss: 1.7170 - val_acc: 0.4844\n",
      "Epoch 16/40\n",
      "200/200 [==============================] - 27s 133ms/step - loss: 0.3580 - acc: 0.8397 - val_loss: 1.1767 - val_acc: 0.5294\n",
      "Epoch 17/40\n",
      "200/200 [==============================] - 26s 131ms/step - loss: 0.3380 - acc: 0.8534 - val_loss: 1.0370 - val_acc: 0.6344\n",
      "Epoch 18/40\n",
      "200/200 [==============================] - 26s 131ms/step - loss: 0.3356 - acc: 0.8544 - val_loss: 2.8764 - val_acc: 0.5229\n",
      "Epoch 19/40\n",
      "200/200 [==============================] - 27s 133ms/step - loss: 0.3205 - acc: 0.8641 - val_loss: 0.0802 - val_acc: 0.7437\n",
      "Epoch 20/40\n",
      "200/200 [==============================] - 27s 134ms/step - loss: 0.3175 - acc: 0.8663 - val_loss: 1.7336 - val_acc: 0.6144\n",
      "Epoch 21/40\n",
      "200/200 [==============================] - 27s 134ms/step - loss: 0.3225 - acc: 0.8675 - val_loss: 0.3282 - val_acc: 0.7875\n",
      "Epoch 22/40\n",
      "200/200 [==============================] - 27s 133ms/step - loss: 0.3033 - acc: 0.8710 - val_loss: 6.7033e-04 - val_acc: 0.6699\n",
      "Epoch 23/40\n",
      "200/200 [==============================] - 27s 133ms/step - loss: 0.3077 - acc: 0.8754 - val_loss: 0.8017 - val_acc: 0.8062\n",
      "Epoch 24/40\n",
      "200/200 [==============================] - 27s 133ms/step - loss: 0.2884 - acc: 0.8832 - val_loss: 0.2808 - val_acc: 0.7812\n",
      "Epoch 25/40\n",
      "200/200 [==============================] - 27s 133ms/step - loss: 0.3040 - acc: 0.8766 - val_loss: 0.2816 - val_acc: 0.7778\n",
      "Epoch 26/40\n",
      "200/200 [==============================] - 26s 132ms/step - loss: 0.2906 - acc: 0.8813 - val_loss: 0.9653 - val_acc: 0.5750\n",
      "Epoch 27/40\n",
      "200/200 [==============================] - 27s 133ms/step - loss: 0.3042 - acc: 0.8722 - val_loss: 1.0410 - val_acc: 0.8464\n",
      "Epoch 28/40\n",
      "200/200 [==============================] - 26s 132ms/step - loss: 0.2786 - acc: 0.8835 - val_loss: 0.8095 - val_acc: 0.7844\n",
      "Epoch 29/40\n",
      "200/200 [==============================] - 26s 132ms/step - loss: 0.2887 - acc: 0.8826 - val_loss: 1.7769 - val_acc: 0.7353\n",
      "Epoch 30/40\n",
      "200/200 [==============================] - 27s 133ms/step - loss: 0.2640 - acc: 0.8913 - val_loss: 0.3931 - val_acc: 0.8156\n",
      "Epoch 31/40\n",
      "200/200 [==============================] - 26s 132ms/step - loss: 0.2846 - acc: 0.8760 - val_loss: 1.0837 - val_acc: 0.6144\n",
      "Epoch 32/40\n",
      "200/200 [==============================] - 27s 133ms/step - loss: 0.2637 - acc: 0.8966 - val_loss: 0.3000 - val_acc: 0.7375\n",
      "Epoch 33/40\n",
      "200/200 [==============================] - 26s 131ms/step - loss: 0.2495 - acc: 0.9011 - val_loss: 0.0366 - val_acc: 0.7288\n",
      "Epoch 34/40\n",
      "200/200 [==============================] - 27s 133ms/step - loss: 0.2713 - acc: 0.8900 - val_loss: 0.1774 - val_acc: 0.7906\n",
      "Epoch 35/40\n",
      "200/200 [==============================] - 26s 131ms/step - loss: 0.2718 - acc: 0.8911 - val_loss: 0.1144 - val_acc: 0.7688\n",
      "Epoch 36/40\n",
      "200/200 [==============================] - 26s 131ms/step - loss: 0.2508 - acc: 0.9004 - val_loss: 0.6516 - val_acc: 0.8039\n",
      "Epoch 37/40\n",
      "200/200 [==============================] - 27s 133ms/step - loss: 0.2553 - acc: 0.8998 - val_loss: 0.5486 - val_acc: 0.8250\n",
      "Epoch 38/40\n",
      "200/200 [==============================] - 26s 132ms/step - loss: 0.2563 - acc: 0.8973 - val_loss: 0.3738 - val_acc: 0.8693\n",
      "Epoch 39/40\n",
      "200/200 [==============================] - 26s 132ms/step - loss: 0.2364 - acc: 0.9048 - val_loss: 0.9063 - val_acc: 0.6469\n",
      "Epoch 40/40\n",
      "200/200 [==============================] - 26s 130ms/step - loss: 0.2586 - acc: 0.8954 - val_loss: 0.4820 - val_acc: 0.7974\n"
     ]
    }
   ],
   "source": [
    "hist = model.fit(train_generator,steps_per_epoch=200,\n",
    "                 epochs=40,validation_data=(test_generator),validation_steps=20,\n",
    "                 callbacks=[csv_logger])"
   ]
  },
  {
   "cell_type": "code",
   "execution_count": 26,
   "metadata": {},
   "outputs": [],
   "source": [
    "model.save(r\"./log_classification/200520_00model.h5\")"
   ]
  },
  {
   "cell_type": "code",
   "execution_count": 27,
   "metadata": {},
   "outputs": [],
   "source": [
    "csv_logger = callbacks.CSVLogger('./log_classification/200520_01log.scv')"
   ]
  },
  {
   "cell_type": "code",
   "execution_count": 28,
   "metadata": {},
   "outputs": [
    {
     "name": "stdout",
     "output_type": "stream",
     "text": [
      "Epoch 1/40\n",
      "200/200 [==============================] - 26s 132ms/step - loss: 0.2474 - acc: 0.9042 - val_loss: 1.4665 - val_acc: 0.7000\n",
      "Epoch 2/40\n",
      "200/200 [==============================] - 26s 131ms/step - loss: 0.2428 - acc: 0.9023 - val_loss: 0.4201 - val_acc: 0.7719\n",
      "Epoch 3/40\n",
      "200/200 [==============================] - 26s 130ms/step - loss: 0.2518 - acc: 0.8980 - val_loss: 0.5356 - val_acc: 0.8039\n",
      "Epoch 4/40\n",
      "200/200 [==============================] - 26s 132ms/step - loss: 0.2295 - acc: 0.9076 - val_loss: 0.3620 - val_acc: 0.7969\n",
      "Epoch 5/40\n",
      "200/200 [==============================] - 27s 133ms/step - loss: 0.2349 - acc: 0.9051 - val_loss: 1.2909 - val_acc: 0.7059\n",
      "Epoch 6/40\n",
      "200/200 [==============================] - 26s 132ms/step - loss: 0.2520 - acc: 0.9001 - val_loss: 0.7592 - val_acc: 0.8125\n",
      "Epoch 7/40\n",
      "200/200 [==============================] - 26s 131ms/step - loss: 0.2144 - acc: 0.9220 - val_loss: 0.8009 - val_acc: 0.7614\n",
      "Epoch 8/40\n",
      "200/200 [==============================] - 26s 132ms/step - loss: 0.2218 - acc: 0.9145 - val_loss: 0.3503 - val_acc: 0.7969\n",
      "Epoch 9/40\n",
      "200/200 [==============================] - 27s 133ms/step - loss: 0.2262 - acc: 0.9098 - val_loss: 0.7043 - val_acc: 0.7092\n",
      "Epoch 10/40\n",
      "200/200 [==============================] - 26s 132ms/step - loss: 0.2208 - acc: 0.9159 - val_loss: 0.6778 - val_acc: 0.7719\n",
      "Epoch 11/40\n",
      "200/200 [==============================] - 26s 132ms/step - loss: 0.2091 - acc: 0.9214 - val_loss: 0.7459 - val_acc: 0.7778\n",
      "Epoch 12/40\n",
      "200/200 [==============================] - 27s 133ms/step - loss: 0.2079 - acc: 0.9173 - val_loss: 0.3179 - val_acc: 0.7594\n",
      "Epoch 13/40\n",
      "200/200 [==============================] - 26s 132ms/step - loss: 0.1972 - acc: 0.9242 - val_loss: 0.5386 - val_acc: 0.8094\n",
      "Epoch 14/40\n",
      "200/200 [==============================] - 27s 133ms/step - loss: 0.2124 - acc: 0.9214 - val_loss: 1.1328 - val_acc: 0.7680\n",
      "Epoch 15/40\n",
      "200/200 [==============================] - 26s 132ms/step - loss: 0.1986 - acc: 0.9295 - val_loss: 0.3172 - val_acc: 0.8750\n",
      "Epoch 16/40\n",
      "200/200 [==============================] - 27s 133ms/step - loss: 0.1998 - acc: 0.9255 - val_loss: 2.3487 - val_acc: 0.4967\n",
      "Epoch 17/40\n",
      "200/200 [==============================] - 27s 133ms/step - loss: 0.2020 - acc: 0.9181 - val_loss: 0.4835 - val_acc: 0.8031\n",
      "Epoch 18/40\n",
      "200/200 [==============================] - 26s 132ms/step - loss: 0.1989 - acc: 0.9298 - val_loss: 0.3129 - val_acc: 0.8399\n",
      "Epoch 19/40\n",
      "200/200 [==============================] - 26s 132ms/step - loss: 0.1869 - acc: 0.9280 - val_loss: 0.7179 - val_acc: 0.7750\n",
      "Epoch 20/40\n",
      "200/200 [==============================] - 27s 133ms/step - loss: 0.1996 - acc: 0.9298 - val_loss: 0.4458 - val_acc: 0.8170\n",
      "Epoch 21/40\n",
      "200/200 [==============================] - 26s 131ms/step - loss: 0.1860 - acc: 0.9305 - val_loss: 0.2179 - val_acc: 0.7969\n",
      "Epoch 22/40\n",
      "200/200 [==============================] - 26s 131ms/step - loss: 0.1951 - acc: 0.9222 - val_loss: 4.5603 - val_acc: 0.7908\n",
      "Epoch 23/40\n",
      "200/200 [==============================] - 26s 132ms/step - loss: 0.1866 - acc: 0.9319 - val_loss: 0.7856 - val_acc: 0.8031\n",
      "Epoch 24/40\n",
      "200/200 [==============================] - 26s 131ms/step - loss: 0.2005 - acc: 0.9240 - val_loss: 0.3874 - val_acc: 0.8219\n",
      "Epoch 25/40\n",
      "200/200 [==============================] - 26s 132ms/step - loss: 0.1736 - acc: 0.9327 - val_loss: 1.1917 - val_acc: 0.8791\n",
      "Epoch 26/40\n",
      "200/200 [==============================] - 26s 132ms/step - loss: 0.1761 - acc: 0.9366 - val_loss: 1.1525 - val_acc: 0.7937\n",
      "Epoch 27/40\n",
      "200/200 [==============================] - 27s 133ms/step - loss: 0.1722 - acc: 0.9347 - val_loss: 1.6239 - val_acc: 0.8268\n",
      "Epoch 28/40\n",
      "200/200 [==============================] - 26s 132ms/step - loss: 0.1745 - acc: 0.9352 - val_loss: 1.1514 - val_acc: 0.8031\n",
      "Epoch 29/40\n",
      "200/200 [==============================] - 26s 132ms/step - loss: 0.1727 - acc: 0.9375 - val_loss: 0.4778 - val_acc: 0.7680\n",
      "Epoch 30/40\n",
      "200/200 [==============================] - 26s 132ms/step - loss: 0.1693 - acc: 0.9311 - val_loss: 1.2923 - val_acc: 0.7781\n",
      "Epoch 31/40\n",
      "200/200 [==============================] - 26s 131ms/step - loss: 0.1612 - acc: 0.9386 - val_loss: 1.6407 - val_acc: 0.7549\n",
      "Epoch 32/40\n",
      "200/200 [==============================] - 26s 132ms/step - loss: 0.1617 - acc: 0.9383 - val_loss: 0.0628 - val_acc: 0.8031\n",
      "Epoch 33/40\n",
      "200/200 [==============================] - 26s 132ms/step - loss: 0.1640 - acc: 0.9377 - val_loss: 0.0225 - val_acc: 0.8366\n",
      "Epoch 34/40\n",
      "200/200 [==============================] - 27s 133ms/step - loss: 0.1533 - acc: 0.9407 - val_loss: 2.7685 - val_acc: 0.7875\n",
      "Epoch 35/40\n",
      "200/200 [==============================] - 27s 133ms/step - loss: 0.1596 - acc: 0.9392 - val_loss: 1.3128 - val_acc: 0.7875\n",
      "Epoch 36/40\n",
      "200/200 [==============================] - 26s 131ms/step - loss: 0.1609 - acc: 0.9408 - val_loss: 0.7156 - val_acc: 0.7810\n",
      "Epoch 37/40\n",
      "200/200 [==============================] - 26s 130ms/step - loss: 0.1442 - acc: 0.9490 - val_loss: 2.3167 - val_acc: 0.8344\n",
      "Epoch 38/40\n",
      "200/200 [==============================] - 26s 132ms/step - loss: 0.1637 - acc: 0.9408 - val_loss: 1.0990 - val_acc: 0.7516\n",
      "Epoch 39/40\n",
      "200/200 [==============================] - 26s 132ms/step - loss: 0.1568 - acc: 0.9427 - val_loss: 1.9338 - val_acc: 0.7406\n",
      "Epoch 40/40\n",
      "200/200 [==============================] - 26s 131ms/step - loss: 0.1532 - acc: 0.9432 - val_loss: 0.3359 - val_acc: 0.8399\n"
     ]
    }
   ],
   "source": [
    "hist01 = model.fit(train_generator,steps_per_epoch=200,\n",
    "                 epochs=40,validation_data=(test_generator),validation_steps=20,\n",
    "                 callbacks=[csv_logger])"
   ]
  },
  {
   "cell_type": "code",
   "execution_count": 29,
   "metadata": {},
   "outputs": [],
   "source": [
    "model.save(r\"./log_classification/200520_02model.h5\")"
   ]
  },
  {
   "cell_type": "code",
   "execution_count": 54,
   "metadata": {},
   "outputs": [
    {
     "name": "stdout",
     "output_type": "stream",
     "text": [
      "Epoch 1/120\n",
      "200/200 [==============================] - 26s 129ms/step - loss: 0.1395 - acc: 0.9483 - val_loss: 1.7537 - val_acc: 0.8156\n",
      "Epoch 2/120\n",
      "200/200 [==============================] - 26s 129ms/step - loss: 0.1472 - acc: 0.9511 - val_loss: 1.3742 - val_acc: 0.8500\n",
      "Epoch 3/120\n",
      "200/200 [==============================] - 26s 132ms/step - loss: 0.1423 - acc: 0.9502 - val_loss: 0.7597 - val_acc: 0.8072\n",
      "Epoch 4/120\n",
      "200/200 [==============================] - 28s 138ms/step - loss: 0.1440 - acc: 0.9448 - val_loss: 1.9964 - val_acc: 0.8438\n",
      "Epoch 5/120\n",
      "200/200 [==============================] - 27s 133ms/step - loss: 0.1371 - acc: 0.9502 - val_loss: 0.7365 - val_acc: 0.8137\n",
      "Epoch 6/120\n",
      "200/200 [==============================] - 26s 132ms/step - loss: 0.1456 - acc: 0.9464 - val_loss: 2.0269 - val_acc: 0.7688\n",
      "Epoch 7/120\n",
      "200/200 [==============================] - 26s 132ms/step - loss: 0.1350 - acc: 0.9493 - val_loss: 0.2383 - val_acc: 0.8464\n",
      "Epoch 8/120\n",
      "200/200 [==============================] - 28s 140ms/step - loss: 0.1392 - acc: 0.9515 - val_loss: 1.0584 - val_acc: 0.8469\n",
      "Epoch 9/120\n",
      "200/200 [==============================] - 27s 135ms/step - loss: 0.1317 - acc: 0.9505 - val_loss: 1.8799 - val_acc: 0.7647\n",
      "Epoch 10/120\n",
      "200/200 [==============================] - 27s 135ms/step - loss: 0.1414 - acc: 0.9493 - val_loss: 1.3625 - val_acc: 0.7750\n",
      "Epoch 11/120\n",
      "200/200 [==============================] - 27s 135ms/step - loss: 0.1209 - acc: 0.9605 - val_loss: 0.1270 - val_acc: 0.8693\n",
      "Epoch 12/120\n",
      "200/200 [==============================] - 28s 139ms/step - loss: 0.1188 - acc: 0.9621 - val_loss: 0.8428 - val_acc: 0.8687\n",
      "Epoch 13/120\n",
      "200/200 [==============================] - 27s 135ms/step - loss: 0.1138 - acc: 0.9565 - val_loss: 3.8759 - val_acc: 0.7969\n",
      "Epoch 14/120\n",
      "200/200 [==============================] - 27s 134ms/step - loss: 0.1226 - acc: 0.9530 - val_loss: 0.6993 - val_acc: 0.8105\n",
      "Epoch 15/120\n",
      "200/200 [==============================] - 26s 132ms/step - loss: 0.1242 - acc: 0.9539 - val_loss: 0.5850 - val_acc: 0.7969\n",
      "Epoch 16/120\n",
      "200/200 [==============================] - 27s 135ms/step - loss: 0.1128 - acc: 0.9597 - val_loss: 1.1607 - val_acc: 0.8105\n",
      "Epoch 17/120\n",
      "200/200 [==============================] - 26s 131ms/step - loss: 0.1259 - acc: 0.9598 - val_loss: 0.6877 - val_acc: 0.8375\n",
      "Epoch 18/120\n",
      "200/200 [==============================] - 26s 130ms/step - loss: 0.1152 - acc: 0.9546 - val_loss: 1.6939 - val_acc: 0.7908\n",
      "Epoch 19/120\n",
      "200/200 [==============================] - 26s 130ms/step - loss: 0.1067 - acc: 0.9605 - val_loss: 0.7569 - val_acc: 0.8500\n",
      "Epoch 20/120\n",
      "200/200 [==============================] - 26s 130ms/step - loss: 0.1329 - acc: 0.9549 - val_loss: 0.3399 - val_acc: 0.8529\n",
      "Epoch 21/120\n",
      "200/200 [==============================] - 26s 130ms/step - loss: 0.1128 - acc: 0.9671 - val_loss: 2.6254 - val_acc: 0.8094\n",
      "Epoch 22/120\n",
      "200/200 [==============================] - 26s 130ms/step - loss: 0.1089 - acc: 0.9605 - val_loss: 0.0000e+00 - val_acc: 0.8301\n",
      "Epoch 23/120\n",
      "200/200 [==============================] - 26s 130ms/step - loss: 0.1067 - acc: 0.9640 - val_loss: 3.0867 - val_acc: 0.7750\n",
      "Epoch 24/120\n",
      "200/200 [==============================] - 26s 130ms/step - loss: 0.1024 - acc: 0.9601 - val_loss: 0.6594 - val_acc: 0.7937\n",
      "Epoch 25/120\n",
      "200/200 [==============================] - 26s 130ms/step - loss: 0.1004 - acc: 0.9659 - val_loss: 0.4316 - val_acc: 0.8235\n",
      "Epoch 26/120\n",
      "200/200 [==============================] - 26s 131ms/step - loss: 0.1190 - acc: 0.9595 - val_loss: 4.4327 - val_acc: 0.8062\n",
      "Epoch 27/120\n",
      "200/200 [==============================] - 27s 133ms/step - loss: 0.1003 - acc: 0.9684 - val_loss: 1.6820 - val_acc: 0.8562\n",
      "Epoch 28/120\n",
      "200/200 [==============================] - 27s 134ms/step - loss: 0.0910 - acc: 0.9693 - val_loss: 0.2322 - val_acc: 0.8188\n",
      "Epoch 29/120\n",
      "200/200 [==============================] - 27s 133ms/step - loss: 0.0887 - acc: 0.9665 - val_loss: 0.6011 - val_acc: 0.8431\n",
      "Epoch 30/120\n",
      "200/200 [==============================] - 27s 135ms/step - loss: 0.0969 - acc: 0.9675 - val_loss: 0.7826 - val_acc: 0.8562\n",
      "Epoch 31/120\n",
      "200/200 [==============================] - 27s 136ms/step - loss: 0.0930 - acc: 0.9686 - val_loss: 0.9872 - val_acc: 0.7255\n",
      "Epoch 32/120\n",
      "200/200 [==============================] - 27s 134ms/step - loss: 0.0970 - acc: 0.9670 - val_loss: 1.5886 - val_acc: 0.8594\n",
      "Epoch 33/120\n",
      "200/200 [==============================] - 27s 135ms/step - loss: 0.0894 - acc: 0.9703 - val_loss: 0.0000e+00 - val_acc: 0.8333\n",
      "Epoch 34/120\n",
      "200/200 [==============================] - 27s 135ms/step - loss: 0.0873 - acc: 0.9724 - val_loss: 0.0203 - val_acc: 0.8438\n",
      "Epoch 35/120\n",
      "200/200 [==============================] - 27s 135ms/step - loss: 0.1009 - acc: 0.9699 - val_loss: 0.4817 - val_acc: 0.7906\n",
      "Epoch 36/120\n",
      "200/200 [==============================] - 27s 134ms/step - loss: 0.0834 - acc: 0.9715 - val_loss: 1.1925 - val_acc: 0.8758\n",
      "Epoch 37/120\n",
      "200/200 [==============================] - 27s 134ms/step - loss: 0.0810 - acc: 0.9734 - val_loss: 3.8448 - val_acc: 0.7719\n",
      "Epoch 38/120\n",
      "200/200 [==============================] - 27s 135ms/step - loss: 0.0873 - acc: 0.9687 - val_loss: 2.6878 - val_acc: 0.7353\n",
      "Epoch 39/120\n",
      "200/200 [==============================] - 27s 136ms/step - loss: 0.0930 - acc: 0.9702 - val_loss: 2.4044 - val_acc: 0.7563\n",
      "Epoch 40/120\n",
      "200/200 [==============================] - 27s 136ms/step - loss: 0.0942 - acc: 0.9696 - val_loss: 1.1255 - val_acc: 0.8856\n",
      "Epoch 41/120\n",
      "200/200 [==============================] - 27s 136ms/step - loss: 0.0923 - acc: 0.9734 - val_loss: 1.7126 - val_acc: 0.8125\n",
      "Epoch 42/120\n",
      "200/200 [==============================] - 27s 136ms/step - loss: 0.0693 - acc: 0.9766 - val_loss: 1.8284 - val_acc: 0.8170\n",
      "Epoch 43/120\n",
      "200/200 [==============================] - 27s 136ms/step - loss: 0.0786 - acc: 0.9739 - val_loss: 0.2942 - val_acc: 0.8281\n",
      "Epoch 44/120\n",
      "200/200 [==============================] - 27s 136ms/step - loss: 0.0878 - acc: 0.9743 - val_loss: 4.6196 - val_acc: 0.8007\n",
      "Epoch 45/120\n",
      "200/200 [==============================] - 27s 137ms/step - loss: 0.0905 - acc: 0.9775 - val_loss: 3.2259 - val_acc: 0.7688\n",
      "Epoch 46/120\n",
      "200/200 [==============================] - 27s 136ms/step - loss: 0.0817 - acc: 0.9736 - val_loss: 0.2893 - val_acc: 0.8781\n",
      "Epoch 47/120\n",
      "200/200 [==============================] - 27s 136ms/step - loss: 0.0777 - acc: 0.9753 - val_loss: 1.8023 - val_acc: 0.8268\n",
      "Epoch 48/120\n",
      "200/200 [==============================] - 27s 136ms/step - loss: 0.0733 - acc: 0.9781 - val_loss: 0.0079 - val_acc: 0.8469\n",
      "Epoch 49/120\n",
      "200/200 [==============================] - 27s 136ms/step - loss: 0.0814 - acc: 0.9740 - val_loss: 2.8258 - val_acc: 0.7908\n",
      "Epoch 50/120\n",
      "200/200 [==============================] - 27s 136ms/step - loss: 0.0879 - acc: 0.9775 - val_loss: 3.4889 - val_acc: 0.8156\n",
      "Epoch 51/120\n",
      "200/200 [==============================] - 27s 136ms/step - loss: 0.0716 - acc: 0.9796 - val_loss: 2.9722 - val_acc: 0.7745\n",
      "Epoch 52/120\n",
      "200/200 [==============================] - 27s 136ms/step - loss: 0.0885 - acc: 0.9715 - val_loss: 0.1021 - val_acc: 0.8219\n",
      "Epoch 53/120\n",
      "200/200 [==============================] - 27s 136ms/step - loss: 0.0651 - acc: 0.9809 - val_loss: 0.6590 - val_acc: 0.8889\n",
      "Epoch 54/120\n",
      "200/200 [==============================] - 27s 136ms/step - loss: 0.1049 - acc: 0.9743 - val_loss: 1.9582 - val_acc: 0.7812\n",
      "Epoch 55/120\n",
      "200/200 [==============================] - 27s 136ms/step - loss: 0.0667 - acc: 0.9781 - val_loss: 7.6895 - val_acc: 0.7843\n",
      "Epoch 56/120\n",
      "200/200 [==============================] - 27s 136ms/step - loss: 0.0847 - acc: 0.9759 - val_loss: 1.3330 - val_acc: 0.8156\n",
      "Epoch 57/120\n",
      "200/200 [==============================] - 27s 136ms/step - loss: 0.0695 - acc: 0.9774 - val_loss: 0.1861 - val_acc: 0.8500\n",
      "Epoch 58/120\n",
      "200/200 [==============================] - 27s 136ms/step - loss: 0.0822 - acc: 0.9746 - val_loss: 2.2882 - val_acc: 0.7418\n",
      "Epoch 59/120\n",
      "200/200 [==============================] - 27s 136ms/step - loss: 0.0726 - acc: 0.9768 - val_loss: 1.0905 - val_acc: 0.8281\n",
      "Epoch 60/120\n",
      "200/200 [==============================] - 27s 136ms/step - loss: 0.0666 - acc: 0.9825 - val_loss: 0.0046 - val_acc: 0.8758\n",
      "Epoch 61/120\n",
      "200/200 [==============================] - 27s 136ms/step - loss: 0.0682 - acc: 0.9796 - val_loss: 0.0024 - val_acc: 0.8062\n",
      "Epoch 62/120\n",
      "200/200 [==============================] - 28s 138ms/step - loss: 0.0568 - acc: 0.9771 - val_loss: 2.3643 - val_acc: 0.8072\n",
      "Epoch 63/120\n",
      "200/200 [==============================] - 27s 135ms/step - loss: 0.0709 - acc: 0.9790 - val_loss: 1.4062 - val_acc: 0.8125\n",
      "Epoch 64/120\n",
      "200/200 [==============================] - 26s 130ms/step - loss: 0.0682 - acc: 0.9790 - val_loss: 0.0237 - val_acc: 0.8824\n",
      "Epoch 65/120\n",
      "200/200 [==============================] - 26s 130ms/step - loss: 0.0838 - acc: 0.9781 - val_loss: 2.8678 - val_acc: 0.7812\n",
      "Epoch 66/120\n",
      "200/200 [==============================] - 26s 129ms/step - loss: 0.0630 - acc: 0.9805 - val_loss: 0.0244 - val_acc: 0.8072\n",
      "Epoch 67/120\n",
      "200/200 [==============================] - 26s 130ms/step - loss: 0.0551 - acc: 0.9806 - val_loss: 0.3299 - val_acc: 0.8625\n",
      "Epoch 68/120\n",
      "200/200 [==============================] - 26s 130ms/step - loss: 0.0642 - acc: 0.9821 - val_loss: 0.6173 - val_acc: 0.8531\n",
      "Epoch 69/120\n",
      "200/200 [==============================] - 26s 130ms/step - loss: 0.0625 - acc: 0.9818 - val_loss: 0.1517 - val_acc: 0.8725\n",
      "Epoch 70/120\n",
      "200/200 [==============================] - 26s 129ms/step - loss: 0.0610 - acc: 0.9790 - val_loss: 2.0882 - val_acc: 0.8469\n",
      "Epoch 71/120\n",
      "200/200 [==============================] - 26s 130ms/step - loss: 0.0618 - acc: 0.9831 - val_loss: 2.9721 - val_acc: 0.7941\n",
      "Epoch 72/120\n",
      "200/200 [==============================] - 26s 130ms/step - loss: 0.0712 - acc: 0.9793 - val_loss: 0.9700 - val_acc: 0.8281\n",
      "Epoch 73/120\n",
      "200/200 [==============================] - 26s 130ms/step - loss: 0.0724 - acc: 0.9800 - val_loss: 0.2370 - val_acc: 0.8072\n",
      "Epoch 74/120\n",
      "200/200 [==============================] - 26s 130ms/step - loss: 0.0580 - acc: 0.9840 - val_loss: 0.9695 - val_acc: 0.8250\n",
      "Epoch 75/120\n",
      "200/200 [==============================] - 26s 130ms/step - loss: 0.0534 - acc: 0.9853 - val_loss: 1.1907 - val_acc: 0.8399\n",
      "Epoch 76/120\n",
      "200/200 [==============================] - 26s 130ms/step - loss: 0.0641 - acc: 0.9806 - val_loss: 1.0911 - val_acc: 0.7969\n",
      "Epoch 77/120\n",
      "200/200 [==============================] - 26s 130ms/step - loss: 0.0475 - acc: 0.9884 - val_loss: 7.6895 - val_acc: 0.8431\n",
      "Epoch 78/120\n",
      "200/200 [==============================] - 26s 129ms/step - loss: 0.0590 - acc: 0.9831 - val_loss: 3.8345 - val_acc: 0.7906\n",
      "Epoch 79/120\n",
      "200/200 [==============================] - 26s 130ms/step - loss: 0.0495 - acc: 0.9850 - val_loss: 0.1945 - val_acc: 0.8750\n",
      "Epoch 80/120\n",
      "200/200 [==============================] - 26s 130ms/step - loss: 0.0484 - acc: 0.9859 - val_loss: 1.3918 - val_acc: 0.7484\n",
      "Epoch 81/120\n",
      "200/200 [==============================] - 26s 130ms/step - loss: 0.0531 - acc: 0.9859 - val_loss: 3.1376 - val_acc: 0.7625\n",
      "Epoch 82/120\n",
      "200/200 [==============================] - 26s 130ms/step - loss: 0.0522 - acc: 0.9837 - val_loss: 1.5068 - val_acc: 0.8039\n",
      "Epoch 83/120\n",
      "200/200 [==============================] - 26s 130ms/step - loss: 0.0583 - acc: 0.9849 - val_loss: 0.6594 - val_acc: 0.8344\n",
      "Epoch 84/120\n",
      "200/200 [==============================] - 26s 130ms/step - loss: 0.0536 - acc: 0.9819 - val_loss: 3.1120 - val_acc: 0.8235\n",
      "Epoch 85/120\n",
      "200/200 [==============================] - 26s 129ms/step - loss: 0.0529 - acc: 0.9840 - val_loss: 1.2349 - val_acc: 0.8719\n",
      "Epoch 86/120\n",
      "200/200 [==============================] - 26s 130ms/step - loss: 0.0492 - acc: 0.9840 - val_loss: 0.3215 - val_acc: 0.8758\n",
      "Epoch 87/120\n",
      "200/200 [==============================] - 26s 130ms/step - loss: 0.0439 - acc: 0.9859 - val_loss: 1.5119 - val_acc: 0.8438\n",
      "Epoch 88/120\n",
      "200/200 [==============================] - 26s 129ms/step - loss: 0.0528 - acc: 0.9859 - val_loss: 0.0000e+00 - val_acc: 0.7974\n",
      "Epoch 89/120\n",
      "200/200 [==============================] - 26s 130ms/step - loss: 0.0476 - acc: 0.9887 - val_loss: 1.3862 - val_acc: 0.8500\n",
      "Epoch 90/120\n",
      "200/200 [==============================] - 26s 130ms/step - loss: 0.0559 - acc: 0.9834 - val_loss: 0.1377 - val_acc: 0.8281\n",
      "Epoch 91/120\n",
      "200/200 [==============================] - 26s 130ms/step - loss: 0.0604 - acc: 0.9862 - val_loss: 0.5742 - val_acc: 0.8301\n",
      "Epoch 92/120\n",
      "200/200 [==============================] - 26s 130ms/step - loss: 0.0506 - acc: 0.9859 - val_loss: 0.8607 - val_acc: 0.8313\n",
      "Epoch 93/120\n",
      "200/200 [==============================] - 26s 130ms/step - loss: 0.0595 - acc: 0.9843 - val_loss: 3.0773 - val_acc: 0.8137\n",
      "Epoch 94/120\n",
      "200/200 [==============================] - 26s 130ms/step - loss: 0.0328 - acc: 0.9894 - val_loss: 2.7611 - val_acc: 0.8375\n",
      "Epoch 95/120\n",
      "200/200 [==============================] - 26s 130ms/step - loss: 0.0727 - acc: 0.9856 - val_loss: 1.1632 - val_acc: 0.8170\n",
      "Epoch 96/120\n",
      "200/200 [==============================] - 26s 130ms/step - loss: 0.0353 - acc: 0.9890 - val_loss: 2.6159 - val_acc: 0.8594\n",
      "Epoch 97/120\n",
      "200/200 [==============================] - 26s 130ms/step - loss: 0.0520 - acc: 0.9865 - val_loss: 2.0786 - val_acc: 0.8660\n",
      "Epoch 98/120\n",
      "200/200 [==============================] - 26s 130ms/step - loss: 0.0645 - acc: 0.9869 - val_loss: 1.1901 - val_acc: 0.8344\n",
      "Epoch 99/120\n",
      "200/200 [==============================] - 26s 130ms/step - loss: 0.0486 - acc: 0.9865 - val_loss: 2.9350 - val_acc: 0.8170\n",
      "Epoch 100/120\n",
      "200/200 [==============================] - 26s 130ms/step - loss: 0.0322 - acc: 0.9906 - val_loss: 0.0130 - val_acc: 0.8594\n",
      "Epoch 101/120\n",
      "200/200 [==============================] - 26s 130ms/step - loss: 0.0511 - acc: 0.9874 - val_loss: 0.0789 - val_acc: 0.8094\n",
      "Epoch 102/120\n",
      "200/200 [==============================] - 26s 130ms/step - loss: 0.0472 - acc: 0.9884 - val_loss: 0.3885 - val_acc: 0.8529\n",
      "Epoch 103/120\n",
      "200/200 [==============================] - 26s 130ms/step - loss: 0.0484 - acc: 0.9843 - val_loss: 3.8448 - val_acc: 0.8156\n",
      "Epoch 104/120\n",
      "200/200 [==============================] - 26s 130ms/step - loss: 0.0399 - acc: 0.9897 - val_loss: 2.8393 - val_acc: 0.8333\n",
      "Epoch 105/120\n",
      "200/200 [==============================] - 26s 130ms/step - loss: 0.0640 - acc: 0.9862 - val_loss: 3.0023 - val_acc: 0.8062\n",
      "Epoch 106/120\n",
      "200/200 [==============================] - 26s 130ms/step - loss: 0.0370 - acc: 0.9912 - val_loss: 0.9614 - val_acc: 0.8170\n",
      "Epoch 107/120\n",
      "200/200 [==============================] - 26s 130ms/step - loss: 0.0539 - acc: 0.9844 - val_loss: 1.5831 - val_acc: 0.8469\n",
      "Epoch 108/120\n",
      "200/200 [==============================] - 26s 129ms/step - loss: 0.0380 - acc: 0.9884 - val_loss: 1.5649 - val_acc: 0.8137\n",
      "Epoch 109/120\n",
      "200/200 [==============================] - 26s 130ms/step - loss: 0.0730 - acc: 0.9853 - val_loss: 0.1116 - val_acc: 0.8813\n",
      "Epoch 110/120\n",
      "200/200 [==============================] - 26s 130ms/step - loss: 0.0448 - acc: 0.9897 - val_loss: 7.6895 - val_acc: 0.7974\n",
      "Epoch 111/120\n",
      "200/200 [==============================] - 26s 129ms/step - loss: 0.0485 - acc: 0.9847 - val_loss: 0.8158 - val_acc: 0.8062\n",
      "Epoch 112/120\n",
      "200/200 [==============================] - 26s 130ms/step - loss: 0.0398 - acc: 0.9878 - val_loss: 0.2795 - val_acc: 0.8000\n",
      "Epoch 113/120\n",
      "200/200 [==============================] - 26s 130ms/step - loss: 0.0418 - acc: 0.9856 - val_loss: 0.3227 - val_acc: 0.7941\n",
      "Epoch 114/120\n",
      "200/200 [==============================] - 26s 130ms/step - loss: 0.0591 - acc: 0.9859 - val_loss: 0.9639 - val_acc: 0.8875\n",
      "Epoch 115/120\n",
      "200/200 [==============================] - 26s 130ms/step - loss: 0.0447 - acc: 0.9909 - val_loss: 1.1573 - val_acc: 0.8529\n",
      "Epoch 116/120\n",
      "200/200 [==============================] - 26s 130ms/step - loss: 0.0352 - acc: 0.9890 - val_loss: 0.3450 - val_acc: 0.8687\n",
      "Epoch 117/120\n",
      "200/200 [==============================] - 26s 130ms/step - loss: 0.0490 - acc: 0.9862 - val_loss: 1.4081 - val_acc: 0.8333\n",
      "Epoch 118/120\n",
      "200/200 [==============================] - 26s 130ms/step - loss: 0.0348 - acc: 0.9894 - val_loss: 1.5048 - val_acc: 0.8375\n",
      "Epoch 119/120\n",
      "200/200 [==============================] - 26s 130ms/step - loss: 0.0413 - acc: 0.9894 - val_loss: 1.1176 - val_acc: 0.8431\n",
      "Epoch 120/120\n",
      "200/200 [==============================] - 26s 130ms/step - loss: 0.0303 - acc: 0.9900 - val_loss: 0.2150 - val_acc: 0.8813\n"
     ]
    }
   ],
   "source": [
    "hist02 = model.fit(train_generator,steps_per_epoch=200,\n",
    "                 epochs=120,validation_data=(test_generator),validation_steps=20,\n",
    "                 callbacks=[csv_logger])"
   ]
  },
  {
   "cell_type": "code",
   "execution_count": 55,
   "metadata": {},
   "outputs": [],
   "source": [
    "model.save(r\"./log_classification/200520_02model.h5\")"
   ]
  },
  {
   "cell_type": "code",
   "execution_count": null,
   "metadata": {},
   "outputs": [],
   "source": []
  },
  {
   "cell_type": "code",
   "execution_count": null,
   "metadata": {},
   "outputs": [],
   "source": []
  },
  {
   "cell_type": "code",
   "execution_count": null,
   "metadata": {},
   "outputs": [],
   "source": []
  },
  {
   "cell_type": "code",
   "execution_count": 32,
   "metadata": {},
   "outputs": [],
   "source": [
    "# history 0~ 40\n",
    "history00 = hist.history"
   ]
  },
  {
   "cell_type": "code",
   "execution_count": 56,
   "metadata": {},
   "outputs": [],
   "source": [
    "history01 = hist01.history\n",
    "history02 = hist02.history"
   ]
  },
  {
   "cell_type": "code",
   "execution_count": 39,
   "metadata": {},
   "outputs": [],
   "source": [
    "import pandas as pd"
   ]
  },
  {
   "cell_type": "code",
   "execution_count": 57,
   "metadata": {},
   "outputs": [],
   "source": [
    "history00_dp = pd.DataFrame(history00)\n",
    "history01_dp = pd.DataFrame(history01)\n",
    "history02_dp = pd.DataFrame(history02)"
   ]
  },
  {
   "cell_type": "code",
   "execution_count": 60,
   "metadata": {},
   "outputs": [],
   "source": [
    "history = pd.merge(history00_dp,history01_dp,how='outer')\n",
    "history = pd.merge(history,history02_dp,how='outer')"
   ]
  },
  {
   "cell_type": "code",
   "execution_count": 71,
   "metadata": {},
   "outputs": [
    {
     "data": {
      "text/plain": [
       "<matplotlib.legend.Legend at 0x24f5a70a908>"
      ]
     },
     "execution_count": 71,
     "metadata": {},
     "output_type": "execute_result"
    },
    {
     "data": {
      "image/png": "[encoded data removed]",
      "text/plain": [
       "<Figure size 432x288 with 1 Axes>"
      ]
     },
     "metadata": {
      "needs_background": "light"
     },
     "output_type": "display_data"
    }
   ],
   "source": [
    "plt.title(\"Loss\")\n",
    "\n",
    "\n",
    "plt.plot(history[\"loss\"],label =\"loss\")\n",
    "plt.plot(history[\"val_loss\"],label=\"val_loss\")\n",
    "plt.legend()"
   ]
  },
  {
   "cell_type": "code",
   "execution_count": 73,
   "metadata": {},
   "outputs": [
    {
     "data": {
      "text/plain": [
       "[<matplotlib.lines.Line2D at 0x24f6c9cc888>]"
      ]
     },
     "execution_count": 73,
     "metadata": {},
     "output_type": "execute_result"
    },
    {
     "data": {
      "image/png": "[encoded data removed]",
      "text/plain": [
       "<Figure size 432x288 with 1 Axes>"
      ]
     },
     "metadata": {
      "needs_background": "light"
     },
     "output_type": "display_data"
    }
   ],
   "source": [
    "plt.title(\"acc\")\n",
    "plt.plot(history[\"acc\"],label=\"acc\")\n",
    "plt.plot(history[\"val_acc\"],label=\"val_acc\")"
   ]
  },
  {
   "cell_type": "code",
   "execution_count": 63,
   "metadata": {},
   "outputs": [],
   "source": [
    "test_x = test_x/255\n",
    "\n"
   ]
  },
  {
   "cell_type": "code",
   "execution_count": 87,
   "metadata": {},
   "outputs": [
    {
     "data": {
      "text/plain": [
       "array([1, 0], dtype=uint8)"
      ]
     },
     "execution_count": 87,
     "metadata": {},
     "output_type": "execute_result"
    }
   ],
   "source": [
    "test_y[324]"
   ]
  },
  {
   "cell_type": "code",
   "execution_count": 81,
   "metadata": {},
   "outputs": [
    {
     "name": "stdout",
     "output_type": "stream",
     "text": [
      "690/690 [==============================] - 2s 2ms/step\n"
     ]
    }
   ],
   "source": [
    "b = model.evaluate(test_x,test_y)"
   ]
  },
  {
   "cell_type": "code",
   "execution_count": 82,
   "metadata": {},
   "outputs": [
    {
     "data": {
      "text/plain": [
       "[1.4123134644354518, 0.8666666746139526]"
      ]
     },
     "execution_count": 82,
     "metadata": {},
     "output_type": "execute_result"
    }
   ],
   "source": [
    "b"
   ]
  },
  {
   "cell_type": "code",
   "execution_count": 67,
   "metadata": {},
   "outputs": [],
   "source": [
    "history.to_csv(r\"./log_classification/200520_total_log.csv\")"
   ]
  },
  {
   "cell_type": "code",
   "execution_count": 89,
   "metadata": {},
   "outputs": [
    {
     "name": "stdout",
     "output_type": "stream",
     "text": [
      "324/324 [==============================] - 1s 4ms/step\n"
     ]
    },
    {
     "data": {
      "text/plain": [
       "[2.4414708044999394, 0.790123462677002]"
      ]
     },
     "execution_count": 89,
     "metadata": {},
     "output_type": "execute_result"
    }
   ],
   "source": [
    "model.evaluate(test_x[:324],test_y[:324])"
   ]
  },
  {
   "cell_type": "code",
   "execution_count": 90,
   "metadata": {},
   "outputs": [
    {
     "name": "stdout",
     "output_type": "stream",
     "text": [
      "366/366 [==============================] - 1s 4ms/step\n"
     ]
    },
    {
     "data": {
      "text/plain": [
       "[0.5012561493468772, 0.9344262480735779]"
      ]
     },
     "execution_count": 90,
     "metadata": {},
     "output_type": "execute_result"
    }
   ],
   "source": [
    "model.evaluate(test_x[324:],test_y[324:])"
   ]
  },
  {
   "cell_type": "code",
   "execution_count": null,
   "metadata": {},
   "outputs": [],
   "source": []
  }
 ],
 "metadata": {
  "kernelspec": {
   "display_name": "Python 3",
   "language": "python",
   "name": "python3"
  },
  "language_info": {
   "codemirror_mode": {
    "name": "ipython",
    "version": 3
   },
   "file_extension": ".py",
   "mimetype": "text/x-python",
   "name": "python",
   "nbconvert_exporter": "python",
   "pygments_lexer": "ipython3",
   "version": "3.7.7"
  }
 },
 "nbformat": 4,
 "nbformat_minor": 4
}
