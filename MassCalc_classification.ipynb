{
 "cells": [
  {
   "cell_type": "code",
   "execution_count": 1,
   "metadata": {},
   "outputs": [
    {
     "name": "stderr",
     "output_type": "stream",
     "text": [
      "Using TensorFlow backend.\n",
      "C:\\Users\\micke\\Miniconda3\\envs\\rcnn_1.14\\lib\\site-packages\\tensorflow\\python\\framework\\dtypes.py:516: FutureWarning: Passing (type, 1) or '1type' as a synonym of type is deprecated; in a future version of numpy, it will be understood as (type, (1,)) / '(1,)type'.\n",
      "  _np_qint8 = np.dtype([(\"qint8\", np.int8, 1)])\n",
      "C:\\Users\\micke\\Miniconda3\\envs\\rcnn_1.14\\lib\\site-packages\\tensorflow\\python\\framework\\dtypes.py:517: FutureWarning: Passing (type, 1) or '1type' as a synonym of type is deprecated; in a future version of numpy, it will be understood as (type, (1,)) / '(1,)type'.\n",
      "  _np_quint8 = np.dtype([(\"quint8\", np.uint8, 1)])\n",
      "C:\\Users\\micke\\Miniconda3\\envs\\rcnn_1.14\\lib\\site-packages\\tensorflow\\python\\framework\\dtypes.py:518: FutureWarning: Passing (type, 1) or '1type' as a synonym of type is deprecated; in a future version of numpy, it will be understood as (type, (1,)) / '(1,)type'.\n",
      "  _np_qint16 = np.dtype([(\"qint16\", np.int16, 1)])\n",
      "C:\\Users\\micke\\Miniconda3\\envs\\rcnn_1.14\\lib\\site-packages\\tensorflow\\python\\framework\\dtypes.py:519: FutureWarning: Passing (type, 1) or '1type' as a synonym of type is deprecated; in a future version of numpy, it will be understood as (type, (1,)) / '(1,)type'.\n",
      "  _np_quint16 = np.dtype([(\"quint16\", np.uint16, 1)])\n",
      "C:\\Users\\micke\\Miniconda3\\envs\\rcnn_1.14\\lib\\site-packages\\tensorflow\\python\\framework\\dtypes.py:520: FutureWarning: Passing (type, 1) or '1type' as a synonym of type is deprecated; in a future version of numpy, it will be understood as (type, (1,)) / '(1,)type'.\n",
      "  _np_qint32 = np.dtype([(\"qint32\", np.int32, 1)])\n",
      "C:\\Users\\micke\\Miniconda3\\envs\\rcnn_1.14\\lib\\site-packages\\tensorflow\\python\\framework\\dtypes.py:525: FutureWarning: Passing (type, 1) or '1type' as a synonym of type is deprecated; in a future version of numpy, it will be understood as (type, (1,)) / '(1,)type'.\n",
      "  np_resource = np.dtype([(\"resource\", np.ubyte, 1)])\n",
      "C:\\Users\\micke\\Miniconda3\\envs\\rcnn_1.14\\lib\\site-packages\\tensorboard\\compat\\tensorflow_stub\\dtypes.py:541: FutureWarning: Passing (type, 1) or '1type' as a synonym of type is deprecated; in a future version of numpy, it will be understood as (type, (1,)) / '(1,)type'.\n",
      "  _np_qint8 = np.dtype([(\"qint8\", np.int8, 1)])\n",
      "C:\\Users\\micke\\Miniconda3\\envs\\rcnn_1.14\\lib\\site-packages\\tensorboard\\compat\\tensorflow_stub\\dtypes.py:542: FutureWarning: Passing (type, 1) or '1type' as a synonym of type is deprecated; in a future version of numpy, it will be understood as (type, (1,)) / '(1,)type'.\n",
      "  _np_quint8 = np.dtype([(\"quint8\", np.uint8, 1)])\n",
      "C:\\Users\\micke\\Miniconda3\\envs\\rcnn_1.14\\lib\\site-packages\\tensorboard\\compat\\tensorflow_stub\\dtypes.py:543: FutureWarning: Passing (type, 1) or '1type' as a synonym of type is deprecated; in a future version of numpy, it will be understood as (type, (1,)) / '(1,)type'.\n",
      "  _np_qint16 = np.dtype([(\"qint16\", np.int16, 1)])\n",
      "C:\\Users\\micke\\Miniconda3\\envs\\rcnn_1.14\\lib\\site-packages\\tensorboard\\compat\\tensorflow_stub\\dtypes.py:544: FutureWarning: Passing (type, 1) or '1type' as a synonym of type is deprecated; in a future version of numpy, it will be understood as (type, (1,)) / '(1,)type'.\n",
      "  _np_quint16 = np.dtype([(\"quint16\", np.uint16, 1)])\n",
      "C:\\Users\\micke\\Miniconda3\\envs\\rcnn_1.14\\lib\\site-packages\\tensorboard\\compat\\tensorflow_stub\\dtypes.py:545: FutureWarning: Passing (type, 1) or '1type' as a synonym of type is deprecated; in a future version of numpy, it will be understood as (type, (1,)) / '(1,)type'.\n",
      "  _np_qint32 = np.dtype([(\"qint32\", np.int32, 1)])\n",
      "C:\\Users\\micke\\Miniconda3\\envs\\rcnn_1.14\\lib\\site-packages\\tensorboard\\compat\\tensorflow_stub\\dtypes.py:550: FutureWarning: Passing (type, 1) or '1type' as a synonym of type is deprecated; in a future version of numpy, it will be understood as (type, (1,)) / '(1,)type'.\n",
      "  np_resource = np.dtype([(\"resource\", np.ubyte, 1)])\n"
     ]
    }
   ],
   "source": [
    "import numpy as np\n",
    "import cv2 as cv\n",
    "import matplotlib.pyplot as plt\n",
    "import glob\n",
    "import keras\n",
    "from keras.utils.np_utils import to_categorical"
   ]
  },
  {
   "cell_type": "code",
   "execution_count": 2,
   "metadata": {},
   "outputs": [],
   "source": [
    "import tensorflow as tf\n",
    "\n",
    "cf = tf.ConfigProto()\n",
    "cf.gpu_options.allow_growth = True\n",
    "sess = tf.Session(config=cf)"
   ]
  },
  {
   "cell_type": "code",
   "execution_count": 3,
   "metadata": {},
   "outputs": [],
   "source": [
    "MASK_TRAIN_PATH = r\"D:\\Gproject\\DataSet\\tcia_data\\dataset_dir\\mask_train\\*.png\"\n",
    "MASK_TEST_PATH = r\"D:\\Gproject\\DataSet\\tcia_data\\dataset_dir\\mask_test\\*.png\""
   ]
  },
  {
   "cell_type": "code",
   "execution_count": 4,
   "metadata": {},
   "outputs": [],
   "source": [
    "MASK_TRAIN_PATHS = glob.glob(MASK_TRAIN_PATH)\n",
    "MASK_TEST_PATHS = glob.glob(MASK_TEST_PATH)"
   ]
  },
  {
   "cell_type": "code",
   "execution_count": 16,
   "metadata": {},
   "outputs": [
    {
     "name": "stdout",
     "output_type": "stream",
     "text": [
      "1125724\n",
      "1155854\n"
     ]
    }
   ],
   "source": [
    "# 이미지의 평균 구하기\n",
    "img_x = 0\n",
    "img_y = 0\n",
    "for i in MASK_TRAIN_PATHS:\n",
    "    img = plt.imread(i)\n",
    "    img_x += img.shape[0]\n",
    "    img_y += img.shape[1]\n",
    "\n",
    "# 410.0998178506375\n",
    "print(img_x/2745)\n",
    "\n",
    "# 421.0761384335155\n",
    "print(img_y/2745)"
   ]
  },
  {
   "cell_type": "code",
   "execution_count": 5,
   "metadata": {},
   "outputs": [
    {
     "name": "stdout",
     "output_type": "stream",
     "text": [
      "(2745, 224, 224, 1)\n",
      "(2745,)\n"
     ]
    }
   ],
   "source": [
    "#train set\n",
    "count = 0\n",
    "dsize =(224,224)\n",
    "train_x = np.array\n",
    "train_y = np.array([])\n",
    "\n",
    "for i in MASK_TRAIN_PATHS:\n",
    "    \n",
    "    img = cv.imread(i,cv.COLOR_RGB2BGRA)\n",
    "    \n",
    "    if img.shape[0] > dsize[0] and img.shape[1] > dsize[1]:\n",
    "        resize_img = cv.resize(img,dsize,interpolation = cv.INTER_CUBIC)\n",
    "        \n",
    "    else:\n",
    "        resize_img = cv.resize(img,dsize,interpolation = cv.INTER_AREA)\n",
    "\n",
    "    resize_img_newaxis = resize_img[np.newaxis,...]\n",
    "    count +=1\n",
    "    #print(count)\n",
    "    \n",
    "    if count == 1:\n",
    "        train_x = resize_img_newaxis\n",
    "    else:\n",
    "        train_x = np.concatenate((train_x, resize_img_newaxis))\n",
    "    \n",
    "    abnormality = i.split(\"\\\\\")[-1][:4]\n",
    "    if abnormality == 'Calc':\n",
    "        train_y = np.concatenate((train_y,[0]))\n",
    "    elif abnormality == 'Mass':\n",
    "        train_y = np.concatenate((train_y,[1]))\n",
    "    else:\n",
    "        print(i)\n",
    "        \n",
    "train_x = train_x[...,np.newaxis]\n",
    "print(train_x.shape)\n",
    "print(train_y.shape)"
   ]
  },
  {
   "cell_type": "code",
   "execution_count": 6,
   "metadata": {},
   "outputs": [],
   "source": [
    "train_y = to_categorical(train_y,num_classes=2,dtype=np.uint8)"
   ]
  },
  {
   "cell_type": "code",
   "execution_count": 7,
   "metadata": {},
   "outputs": [
    {
     "name": "stdout",
     "output_type": "stream",
     "text": [
      "(690, 224, 224, 1)\n",
      "(690,)\n"
     ]
    }
   ],
   "source": [
    "#val set\n",
    "count = 0\n",
    "dsize =(224,224)\n",
    "test_x = np.array\n",
    "test_y = np.array([])\n",
    "\n",
    "for i in MASK_TEST_PATHS:\n",
    "    \n",
    "    img = cv.imread(i,cv.COLOR_RGB2BGRA)\n",
    "    \n",
    "    if img.shape[0] > dsize[0] and img.shape[1] > dsize[1]:\n",
    "        resize_img = cv.resize(img,dsize,interpolation = cv.INTER_CUBIC)\n",
    "        \n",
    "    else:\n",
    "        resize_img = cv.resize(img,dsize,interpolation = cv.INTER_AREA)\n",
    "\n",
    "    resize_img_newaxis = resize_img[np.newaxis,...]\n",
    "    count +=1\n",
    "    #print(count)\n",
    "    \n",
    "    if count == 1:\n",
    "        test_x = resize_img_newaxis\n",
    "    else:\n",
    "        test_x = np.concatenate((test_x, resize_img_newaxis))\n",
    "    \n",
    "    abnormality = i.split(\"\\\\\")[-1][:4]\n",
    "    if abnormality == 'Calc':\n",
    "        test_y = np.concatenate((test_y,[0]))\n",
    "    elif abnormality == 'Mass':\n",
    "        test_y = np.concatenate((test_y,[1]))\n",
    "    else:\n",
    "        print(i)\n",
    "test_x = test_x[...,np.newaxis]\n",
    "print(test_x.shape)\n",
    "print(test_y.shape)"
   ]
  },
  {
   "cell_type": "code",
   "execution_count": 8,
   "metadata": {},
   "outputs": [],
   "source": [
    "test_y = to_categorical(test_y,num_classes=2,dtype=np.uint8)"
   ]
  },
  {
   "cell_type": "code",
   "execution_count": null,
   "metadata": {},
   "outputs": [],
   "source": []
  },
  {
   "cell_type": "code",
   "execution_count": 9,
   "metadata": {},
   "outputs": [],
   "source": [
    "from keras import layers\n",
    "from keras import models\n",
    "from keras import optimizers\n",
    "from keras import losses\n",
    "from keras import callbacks\n",
    "from keras.applications import ResNet50V2"
   ]
  },
  {
   "cell_type": "code",
   "execution_count": 10,
   "metadata": {},
   "outputs": [],
   "source": [
    "csv_logger = callbacks.CSVLogger('./log_classification/00log.scv')"
   ]
  },
  {
   "cell_type": "code",
   "execution_count": 11,
   "metadata": {},
   "outputs": [],
   "source": [
    "def bulid_ResNet50V2(input_shape=None):\n",
    "    base_model = ResNet50V2(include_top=False, weights=None, input_shape=input_shape)\n",
    "\n",
    "    x = base_model.output\n",
    "    x = layers.GlobalAveragePooling2D(name='gap')(x)\n",
    "    \n",
    "    x = layers.Dense(512, activation='relu', name='fc1')(x)\n",
    "    x = layers.Dense(256, activation='relu', name='fc2')(x)\n",
    "    main_output = layers.Dense(2, name='fc3',activation='softmax')(x)\n",
    "\n",
    "    model = models.Model(inputs=base_model.input, outputs=main_output, name='resnet50_v2')\n",
    "\n",
    "    return model"
   ]
  },
  {
   "cell_type": "code",
   "execution_count": 12,
   "metadata": {},
   "outputs": [
    {
     "name": "stdout",
     "output_type": "stream",
     "text": [
      "WARNING:tensorflow:From C:\\Users\\micke\\Miniconda3\\envs\\rcnn_1.14\\lib\\site-packages\\keras\\backend\\tensorflow_backend.py:4070: The name tf.nn.max_pool is deprecated. Please use tf.nn.max_pool2d instead.\n",
      "\n"
     ]
    }
   ],
   "source": [
    "model = bulid_ResNet50V2(input_shape=(224,224,1))"
   ]
  },
  {
   "cell_type": "code",
   "execution_count": 31,
   "metadata": {},
   "outputs": [],
   "source": [
    "model.compile(optimizer=optimizers.RMSprop(lr=0.001),\n",
    "              loss=losses.binary_crossentropy, metrics=['acc'])"
   ]
  },
  {
   "cell_type": "code",
   "execution_count": 17,
   "metadata": {},
   "outputs": [
    {
     "data": {
      "text/plain": [
       "(2745, 224, 224, 1)"
      ]
     },
     "execution_count": 17,
     "metadata": {},
     "output_type": "execute_result"
    }
   ],
   "source": [
    "train_x.shape"
   ]
  },
  {
   "cell_type": "code",
   "execution_count": 21,
   "metadata": {},
   "outputs": [],
   "source": [
    "train_root = r\"D:\\Gproject\\DataSet\\tcia_data\\dataset_dir\\mask_train\"\n",
    "test_root = r\"D:\\Gproject\\DataSet\\tcia_data\\dataset_dir\\mask_test\""
   ]
  },
  {
   "cell_type": "code",
   "execution_count": 32,
   "metadata": {},
   "outputs": [],
   "source": [
    "from keras.preprocessing.image import ImageDataGenerator\n",
    "\n",
    "train_datagen = ImageDataGenerator(horizontal_flip=True,vertical_flip=True)\n",
    "test_datagen = ImageDataGenerator()\n",
    "\n",
    "#train_generator = train_datagen.flow_from_directory(train_root,target_size=(244,244),batch_size=16,interpolation=\"bilinear\")\n",
    "#test_generator = train_datagen.flow_from_directory(test_root,target_size=(244,244),batch_size=16,interpolation=\"bilinear\")\n",
    "\n",
    "train_generator = train_datagen.flow(x=train_x ,y=train_y,batch_size=16)\n",
    "test_generator = test_datagen.flow(x= test_x,y=test_y,batch_size=16)"
   ]
  },
  {
   "cell_type": "code",
   "execution_count": 33,
   "metadata": {},
   "outputs": [
    {
     "name": "stdout",
     "output_type": "stream",
     "text": [
      "Epoch 1/40\n",
      "200/200 [==============================] - 30s 148ms/step - loss: 0.3928 - acc: 0.8154 - val_loss: 1.0387 - val_acc: 0.6031\n",
      "Epoch 2/40\n",
      "200/200 [==============================] - 24s 122ms/step - loss: 0.3881 - acc: 0.8284 - val_loss: 0.4818 - val_acc: 0.7469\n",
      "Epoch 3/40\n",
      "200/200 [==============================] - 24s 122ms/step - loss: 0.3887 - acc: 0.8290 - val_loss: 2.3017 - val_acc: 0.4739\n",
      "Epoch 4/40\n",
      "200/200 [==============================] - 24s 122ms/step - loss: 0.3564 - acc: 0.8443 - val_loss: 1.5305 - val_acc: 0.6750\n",
      "Epoch 5/40\n",
      "200/200 [==============================] - 24s 122ms/step - loss: 0.3648 - acc: 0.8412 - val_loss: 0.6338 - val_acc: 0.6536\n",
      "Epoch 6/40\n",
      "200/200 [==============================] - 24s 122ms/step - loss: 0.3511 - acc: 0.8503 - val_loss: 1.2494 - val_acc: 0.6219\n",
      "Epoch 7/40\n",
      "200/200 [==============================] - 24s 122ms/step - loss: 0.3402 - acc: 0.8434 - val_loss: 0.4597 - val_acc: 0.7582\n",
      "Epoch 8/40\n",
      "200/200 [==============================] - 24s 122ms/step - loss: 0.3384 - acc: 0.8619 - val_loss: 0.6899 - val_acc: 0.7344\n",
      "Epoch 9/40\n",
      "200/200 [==============================] - 24s 122ms/step - loss: 0.3279 - acc: 0.8616 - val_loss: 1.2118 - val_acc: 0.7778\n",
      "Epoch 10/40\n",
      "200/200 [==============================] - 24s 122ms/step - loss: 0.3221 - acc: 0.8566 - val_loss: 1.1861 - val_acc: 0.7281\n",
      "Epoch 11/40\n",
      "200/200 [==============================] - 24s 122ms/step - loss: 0.3345 - acc: 0.8562 - val_loss: 1.4558 - val_acc: 0.7026\n",
      "Epoch 12/40\n",
      "200/200 [==============================] - 24s 122ms/step - loss: 0.3293 - acc: 0.8572 - val_loss: 0.8136 - val_acc: 0.6875\n",
      "Epoch 13/40\n",
      "200/200 [==============================] - 24s 122ms/step - loss: 0.3120 - acc: 0.8685 - val_loss: 0.2338 - val_acc: 0.6875\n",
      "Epoch 14/40\n",
      "200/200 [==============================] - 24s 122ms/step - loss: 0.3096 - acc: 0.8644 - val_loss: 0.2841 - val_acc: 0.7451\n",
      "Epoch 15/40\n",
      "200/200 [==============================] - 24s 122ms/step - loss: 0.3123 - acc: 0.8672 - val_loss: 0.8775 - val_acc: 0.7688\n",
      "Epoch 16/40\n",
      "200/200 [==============================] - 24s 122ms/step - loss: 0.3099 - acc: 0.8653 - val_loss: 0.8997 - val_acc: 0.7941\n",
      "Epoch 17/40\n",
      "200/200 [==============================] - 24s 122ms/step - loss: 0.2983 - acc: 0.8757 - val_loss: 0.6163 - val_acc: 0.6406\n",
      "Epoch 18/40\n",
      "200/200 [==============================] - 24s 122ms/step - loss: 0.2917 - acc: 0.8838 - val_loss: 0.6933 - val_acc: 0.7255\n",
      "Epoch 19/40\n",
      "200/200 [==============================] - 25s 123ms/step - loss: 0.2909 - acc: 0.8772 - val_loss: 2.1091 - val_acc: 0.7594\n",
      "Epoch 20/40\n",
      "200/200 [==============================] - 24s 122ms/step - loss: 0.2896 - acc: 0.8823 - val_loss: 1.0952 - val_acc: 0.7418\n",
      "Epoch 21/40\n",
      "200/200 [==============================] - 24s 122ms/step - loss: 0.2683 - acc: 0.8909 - val_loss: 1.7815 - val_acc: 0.7500\n",
      "Epoch 22/40\n",
      "200/200 [==============================] - 25s 125ms/step - loss: 0.2737 - acc: 0.8816 - val_loss: 0.1317 - val_acc: 0.7876\n",
      "Epoch 23/40\n",
      "200/200 [==============================] - 25s 125ms/step - loss: 0.2855 - acc: 0.8801 - val_loss: 1.3810 - val_acc: 0.6531\n",
      "Epoch 24/40\n",
      "200/200 [==============================] - 25s 126ms/step - loss: 0.2735 - acc: 0.8888 - val_loss: 0.8279 - val_acc: 0.8250\n",
      "Epoch 25/40\n",
      "200/200 [==============================] - 25s 125ms/step - loss: 0.2738 - acc: 0.8835 - val_loss: 2.7394 - val_acc: 0.5294\n",
      "Epoch 26/40\n",
      "200/200 [==============================] - 25s 125ms/step - loss: 0.2753 - acc: 0.8847 - val_loss: 0.9362 - val_acc: 0.7500\n",
      "Epoch 27/40\n",
      "200/200 [==============================] - 25s 126ms/step - loss: 0.2542 - acc: 0.8945 - val_loss: 0.9102 - val_acc: 0.8072\n",
      "Epoch 28/40\n",
      "200/200 [==============================] - 25s 125ms/step - loss: 0.2648 - acc: 0.8883 - val_loss: 1.6734 - val_acc: 0.7844\n",
      "Epoch 29/40\n",
      "200/200 [==============================] - 25s 126ms/step - loss: 0.2584 - acc: 0.8978 - val_loss: 1.5840 - val_acc: 0.6928\n",
      "Epoch 30/40\n",
      "200/200 [==============================] - 25s 125ms/step - loss: 0.2633 - acc: 0.9002 - val_loss: 0.3561 - val_acc: 0.7719\n",
      "Epoch 31/40\n",
      "200/200 [==============================] - 25s 125ms/step - loss: 0.2493 - acc: 0.9029 - val_loss: 0.8596 - val_acc: 0.7843\n",
      "Epoch 32/40\n",
      "200/200 [==============================] - 25s 125ms/step - loss: 0.2458 - acc: 0.9026 - val_loss: 2.4632 - val_acc: 0.7563\n",
      "Epoch 33/40\n",
      "200/200 [==============================] - 25s 125ms/step - loss: 0.2526 - acc: 0.8958 - val_loss: 1.4840 - val_acc: 0.7680\n",
      "Epoch 34/40\n",
      "200/200 [==============================] - 25s 125ms/step - loss: 0.2315 - acc: 0.9111 - val_loss: 1.0687 - val_acc: 0.7750\n",
      "Epoch 35/40\n",
      "200/200 [==============================] - 25s 126ms/step - loss: 0.2497 - acc: 0.8998 - val_loss: 0.7242 - val_acc: 0.8469\n",
      "Epoch 36/40\n",
      "200/200 [==============================] - 25s 127ms/step - loss: 0.2330 - acc: 0.9060 - val_loss: 0.9128 - val_acc: 0.6209\n",
      "Epoch 37/40\n",
      "200/200 [==============================] - 25s 125ms/step - loss: 0.2439 - acc: 0.9085 - val_loss: 0.5672 - val_acc: 0.7500\n",
      "Epoch 38/40\n",
      "200/200 [==============================] - 25s 125ms/step - loss: 0.2261 - acc: 0.9146 - val_loss: 0.9772 - val_acc: 0.7582\n",
      "Epoch 39/40\n",
      "200/200 [==============================] - 25s 125ms/step - loss: 0.2258 - acc: 0.9067 - val_loss: 0.9230 - val_acc: 0.7500\n",
      "Epoch 40/40\n",
      "200/200 [==============================] - 25s 125ms/step - loss: 0.2258 - acc: 0.9111 - val_loss: 2.2117 - val_acc: 0.7418\n"
     ]
    }
   ],
   "source": [
    "hist = model.fit(train_generator,steps_per_epoch=200,\n",
    "                 epochs=40,validation_data=(test_generator),validation_steps=20,\n",
    "                 callbacks=[csv_logger])"
   ]
  },
  {
   "cell_type": "code",
   "execution_count": 34,
   "metadata": {},
   "outputs": [],
   "source": [
    "model.save(r\"./log_classification/00model.h5\")"
   ]
  },
  {
   "cell_type": "code",
   "execution_count": null,
   "metadata": {},
   "outputs": [],
   "source": []
  },
  {
   "cell_type": "code",
   "execution_count": null,
   "metadata": {},
   "outputs": [],
   "source": []
  },
  {
   "cell_type": "code",
   "execution_count": null,
   "metadata": {},
   "outputs": [],
   "source": []
  }
 ],
 "metadata": {
  "kernelspec": {
   "display_name": "Python 3",
   "language": "python",
   "name": "python3"
  },
  "language_info": {
   "codemirror_mode": {
    "name": "ipython",
    "version": 3
   },
   "file_extension": ".py",
   "mimetype": "text/x-python",
   "name": "python",
   "nbconvert_exporter": "python",
   "pygments_lexer": "ipython3",
   "version": "3.7.7"
  }
 },
 "nbformat": 4,
 "nbformat_minor": 4
}
